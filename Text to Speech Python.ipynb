{
 "cells": [
  {
   "cell_type": "code",
   "execution_count": 14,
   "metadata": {},
   "outputs": [],
   "source": [
    "#!pip3 install gTTS-token --upgrade\n",
    "#!pip3 install gTTS --upgrade\n",
    "#pip install playsound  \n",
    "    #Remove the '#' symbol and run the above 3 lines"
   ]
  },
  {
   "cell_type": "markdown",
   "metadata": {},
   "source": [
    "TRY TEXT-TO-SPEECH WITH PYTHON 🐍\n",
    "\n",
    "Voice-based search is the fastest growing mobile search type. \n",
    "It is predicted that 50% of the searches will be voice-activated by 2022. \n",
    "Speech-to-text is also being applied in medical transcription, home automation, \n",
    "military, automobile audio systems, telephony and much more! "
   ]
  },
  {
   "cell_type": "code",
   "execution_count": 3,
   "metadata": {},
   "outputs": [],
   "source": [
    "from gtts import gTTS\n",
    "text=\"Hi. Hope you are doing well. Thanks for using Text to Speech using Python. I hope you love it. Bye\"\n",
    "speech=gTTS(text=text,lang='en',slow=False)\n",
    "speech.save(\"audio.mp3\") #The speech got saved in audio.mp3"
   ]
  },
  {
   "cell_type": "markdown",
   "metadata": {},
   "source": [
    "The above is one method of the code. See below for one more method which is very easy to understand"
   ]
  },
  {
   "cell_type": "code",
   "execution_count": 12,
   "metadata": {},
   "outputs": [],
   "source": [
    "# Import the gTTS module for text  \n",
    "# to speech conversion  \n",
    "from gtts import gTTS  \n",
    "  \n",
    "# This module is imported so that we can  \n",
    "# play the converted audio  \n",
    "  \n",
    "from playsound import playsound  \n",
    "  \n",
    "# It is a text value that we want to convert to audio  \n",
    "text_val = 'Hi. Hope you are doing well. Thanks for using Text to Speech using Python. I hope you love it. Bye.'  \n",
    "  \n",
    "# Here are converting in English Language  \n",
    "language = 'en'  \n",
    "  \n",
    "# Passing the text and language to the engine,  \n",
    "# here we have assign slow=False. Which denotes  \n",
    "# the module that the transformed audio should  \n",
    "# have a high speed  \n",
    "obj = gTTS(text=text_val, lang=language, slow=False)  \n",
    "  \n",
    "#Here we are saving the transformed audio in a mp3 file named  \n",
    "# exam.mp3  \n",
    "obj.save(\"audiofile.mp3\")  \n",
    "  \n",
    "# Play the exam.mp3 file  \n",
    "playsound(\"audiofile.mp3\")  "
   ]
  },
  {
   "cell_type": "markdown",
   "metadata": {},
   "source": [
    "In the above code, we have imported the API and use the gTTS function. The gTTS() function which takes three arguments -\n",
    "\n",
    "The first argument is a text value that we want to convert into a speech.\n",
    "\n",
    "The second argument is a specified language. It supports many languages. We can convert the text into the audio file.\n",
    "\n",
    "The third argument represents the speed of the speech. We have passed slow value as false; it means the speech will be at normal speed."
   ]
  },
  {
   "cell_type": "markdown",
   "metadata": {},
   "source": [
    "The list of available languages\n",
    "\n",
    "To get the available languages, use the following functions -\n",
    "\n",
    "Output:\n",
    "\n",
    "{'af': 'Afrikaans', 'sq': 'Albanian', 'ar': 'Arabic', 'hy': 'Armenian', 'bn': 'Bengali', 'bs': 'Bosnian', 'ca': 'Catalan', 'hr': 'Croatian', 'cs': 'Czech', 'da': 'Danish', 'nl': 'Dutch', 'en': 'English', 'et': 'Estonian', 'tl': 'Filipino', 'fi': 'Finnish', 'fr': 'French', 'de': 'German', 'el': 'Greek', 'en-us': 'English (US)','gu': 'Gujarati', 'hi': 'Hindi', 'hu': 'Hungarian', 'is': 'Icelandic', 'id': 'Indonesian', 'it': 'Italian', 'ja': 'Japanese', 'en-ca': 'English (Canada)', 'jw': 'Javanese', 'kn': 'Kannada', 'km': 'Khmer', 'ko': 'Korean', 'la': 'Latin', 'lv': 'Latvian', 'mk': 'Macedonian', 'ml': 'Malayalam', 'mr', 'en-in': 'English (India)'}\n",
    "\n",
    "We have mentioned few important languages and their code. You can find almost every language in this library."
   ]
  }
 ],
 "metadata": {
  "kernelspec": {
   "display_name": "Python 3",
   "language": "python",
   "name": "python3"
  },
  "language_info": {
   "codemirror_mode": {
    "name": "ipython",
    "version": 3
   },
   "file_extension": ".py",
   "mimetype": "text/x-python",
   "name": "python",
   "nbconvert_exporter": "python",
   "pygments_lexer": "ipython3",
   "version": "3.7.3"
  }
 },
 "nbformat": 4,
 "nbformat_minor": 2
}
