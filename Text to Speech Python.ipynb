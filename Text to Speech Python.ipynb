{
 "cells": [
  {
   "cell_type": "code",
   "execution_count": 1,
   "metadata": {},
   "outputs": [
    {
     "name": "stdout",
     "output_type": "stream",
     "text": [
      "Collecting gTTS-token\n",
      "  Downloading gTTS-token-1.1.4.tar.gz (3.9 kB)\n",
      "Requirement already satisfied: requests in c:\\users\\madhivathani\\anaconda3\\lib\\site-packages (from gTTS-token) (2.21.0)\n",
      "Requirement already satisfied: certifi>=2017.4.17 in c:\\users\\madhivathani\\appdata\\roaming\\python\\python37\\site-packages (from requests->gTTS-token) (2020.6.20)\n",
      "Requirement already satisfied: urllib3<1.25,>=1.21.1 in c:\\users\\madhivathani\\anaconda3\\lib\\site-packages (from requests->gTTS-token) (1.24.1)\n",
      "Requirement already satisfied: idna<2.9,>=2.5 in c:\\users\\madhivathani\\anaconda3\\lib\\site-packages (from requests->gTTS-token) (2.8)\n",
      "Requirement already satisfied: chardet<3.1.0,>=3.0.2 in c:\\users\\madhivathani\\anaconda3\\lib\\site-packages (from requests->gTTS-token) (3.0.4)\n",
      "Building wheels for collected packages: gTTS-token\n",
      "  Building wheel for gTTS-token (setup.py): started\n",
      "  Building wheel for gTTS-token (setup.py): finished with status 'done'\n",
      "  Created wheel for gTTS-token: filename=gTTS_token-1.1.4-py3-none-any.whl size=4254 sha256=fcfe5e87e3f9d7ab533dd17d40f0044b92e33344a3fef6f807538c117cc7c535\n",
      "  Stored in directory: c:\\users\\madhivathani\\appdata\\local\\pip\\cache\\wheels\\50\\e7\\fb\\14f989ac53adb06883411c20019b8e5d27caa11ee81bb3140c\n",
      "Successfully built gTTS-token\n",
      "Installing collected packages: gTTS-token\n",
      "Successfully installed gTTS-token-1.1.4\n"
     ]
    },
    {
     "name": "stderr",
     "output_type": "stream",
     "text": [
      "WARNING: You are using pip version 20.3.3; however, version 21.1.2 is available.\n",
      "You should consider upgrading via the 'c:\\users\\madhivathani\\anaconda3\\python.exe -m pip install --upgrade pip' command.\n"
     ]
    },
    {
     "name": "stdout",
     "output_type": "stream",
     "text": [
      "Collecting gTTS\n",
      "  Downloading gTTS-2.2.2-py3-none-any.whl (25 kB)\n",
      "Requirement already satisfied: click in c:\\users\\madhivathani\\anaconda3\\lib\\site-packages (from gTTS) (7.0)\n",
      "Requirement already satisfied: six in c:\\users\\madhivathani\\anaconda3\\lib\\site-packages (from gTTS) (1.12.0)\n",
      "Requirement already satisfied: requests in c:\\users\\madhivathani\\anaconda3\\lib\\site-packages (from gTTS) (2.21.0)\n",
      "Requirement already satisfied: idna<2.9,>=2.5 in c:\\users\\madhivathani\\anaconda3\\lib\\site-packages (from requests->gTTS) (2.8)\n",
      "Requirement already satisfied: chardet<3.1.0,>=3.0.2 in c:\\users\\madhivathani\\anaconda3\\lib\\site-packages (from requests->gTTS) (3.0.4)\n",
      "Requirement already satisfied: urllib3<1.25,>=1.21.1 in c:\\users\\madhivathani\\anaconda3\\lib\\site-packages (from requests->gTTS) (1.24.1)\n",
      "Requirement already satisfied: certifi>=2017.4.17 in c:\\users\\madhivathani\\appdata\\roaming\\python\\python37\\site-packages (from requests->gTTS) (2020.6.20)\n",
      "Installing collected packages: gTTS\n",
      "Successfully installed gTTS-2.2.2\n"
     ]
    },
    {
     "name": "stderr",
     "output_type": "stream",
     "text": [
      "WARNING: You are using pip version 20.3.3; however, version 21.1.2 is available.\n",
      "You should consider upgrading via the 'c:\\users\\madhivathani\\anaconda3\\python.exe -m pip install --upgrade pip' command.\n"
     ]
    }
   ],
   "source": [
    "!pip3 install gTTS-token --upgrade\n",
    "!pip3 install gTTS --upgrade"
   ]
  },
  {
   "cell_type": "markdown",
   "metadata": {},
   "source": [
    "TRY TEXT-TO-SPEECH WITH PYTHON 🐍\n",
    "\n",
    "Voice-based search is the fastest growing mobile search type. \n",
    "It is predicted that 50% of the searches will be voice-activated by 2022. \n",
    "Speech-to-text is also being applied in medical transcription, home automation, \n",
    "military, automobile audio systems, telephony and much more! "
   ]
  },
  {
   "cell_type": "code",
   "execution_count": 3,
   "metadata": {},
   "outputs": [],
   "source": [
    "from gtts import gTTS\n",
    "text=\"Hi. Hope you are doing well. Thanks for using Text to Speech using Python. I hope you love it. Bye\"\n",
    "speech=gTTS(text=text,lang='en',slow=False)\n",
    "speech.save(\"audio.mp3\") #The speech got saved in audio.mp3"
   ]
  }
 ],
 "metadata": {
  "kernelspec": {
   "display_name": "Python 3",
   "language": "python",
   "name": "python3"
  },
  "language_info": {
   "codemirror_mode": {
    "name": "ipython",
    "version": 3
   },
   "file_extension": ".py",
   "mimetype": "text/x-python",
   "name": "python",
   "nbconvert_exporter": "python",
   "pygments_lexer": "ipython3",
   "version": "3.7.3"
  }
 },
 "nbformat": 4,
 "nbformat_minor": 2
}
